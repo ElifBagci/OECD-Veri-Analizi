{
 "cells": [
  {
   "attachments": {},
   "cell_type": "markdown",
   "metadata": {},
   "source": [
    "# Tek Yönlü Anova Analizi"
   ]
  },
  {
   "cell_type": "code",
   "execution_count": 87,
   "metadata": {},
   "outputs": [],
   "source": [
    "import pandas as pd\n",
    "import numpy as np\n",
    "from scipy import stats\n",
    "import scikit_posthocs as sp"
   ]
  },
  {
   "cell_type": "code",
   "execution_count": 88,
   "metadata": {},
   "outputs": [],
   "source": [
    "country_name = [\"France\", \"Greece\",\t\"Italy\", \"Portugal\", \"Spain\", \"Türkiye\"]"
   ]
  },
  {
   "cell_type": "code",
   "execution_count": 89,
   "metadata": {},
   "outputs": [
    {
     "data": {
      "text/html": [
       "<div>\n",
       "<style scoped>\n",
       "    .dataframe tbody tr th:only-of-type {\n",
       "        vertical-align: middle;\n",
       "    }\n",
       "\n",
       "    .dataframe tbody tr th {\n",
       "        vertical-align: top;\n",
       "    }\n",
       "\n",
       "    .dataframe thead th {\n",
       "        text-align: right;\n",
       "    }\n",
       "</style>\n",
       "<table border=\"1\" class=\"dataframe\">\n",
       "  <thead>\n",
       "    <tr style=\"text-align: right;\">\n",
       "      <th></th>\n",
       "      <th>Unnamed: 0</th>\n",
       "      <th>France</th>\n",
       "      <th>Greece</th>\n",
       "      <th>Italy</th>\n",
       "      <th>Portugal</th>\n",
       "      <th>Spain</th>\n",
       "      <th>Türkiye</th>\n",
       "      <th>t</th>\n",
       "      <th>interruption</th>\n",
       "      <th>interrupted t</th>\n",
       "    </tr>\n",
       "  </thead>\n",
       "  <tbody>\n",
       "    <tr>\n",
       "      <th>0</th>\n",
       "      <td>2000</td>\n",
       "      <td>16.899</td>\n",
       "      <td>19.871</td>\n",
       "      <td>21.158</td>\n",
       "      <td>21.566</td>\n",
       "      <td>21.958</td>\n",
       "      <td>27.806000</td>\n",
       "      <td>1</td>\n",
       "      <td>0</td>\n",
       "      <td>0</td>\n",
       "    </tr>\n",
       "    <tr>\n",
       "      <th>1</th>\n",
       "      <td>2001</td>\n",
       "      <td>17.333</td>\n",
       "      <td>19.075</td>\n",
       "      <td>21.920</td>\n",
       "      <td>22.192</td>\n",
       "      <td>21.949</td>\n",
       "      <td>35.512848</td>\n",
       "      <td>2</td>\n",
       "      <td>0</td>\n",
       "      <td>0</td>\n",
       "    </tr>\n",
       "    <tr>\n",
       "      <th>2</th>\n",
       "      <td>2002</td>\n",
       "      <td>17.188</td>\n",
       "      <td>19.949</td>\n",
       "      <td>21.865</td>\n",
       "      <td>22.255</td>\n",
       "      <td>22.650</td>\n",
       "      <td>37.713939</td>\n",
       "      <td>3</td>\n",
       "      <td>0</td>\n",
       "      <td>0</td>\n",
       "    </tr>\n",
       "    <tr>\n",
       "      <th>3</th>\n",
       "      <td>2003</td>\n",
       "      <td>17.559</td>\n",
       "      <td>24.572</td>\n",
       "      <td>21.375</td>\n",
       "      <td>22.043</td>\n",
       "      <td>21.418</td>\n",
       "      <td>36.040784</td>\n",
       "      <td>4</td>\n",
       "      <td>0</td>\n",
       "      <td>0</td>\n",
       "    </tr>\n",
       "    <tr>\n",
       "      <th>4</th>\n",
       "      <td>2004</td>\n",
       "      <td>17.630</td>\n",
       "      <td>24.716</td>\n",
       "      <td>20.996</td>\n",
       "      <td>22.096</td>\n",
       "      <td>20.677</td>\n",
       "      <td>34.124759</td>\n",
       "      <td>5</td>\n",
       "      <td>0</td>\n",
       "      <td>0</td>\n",
       "    </tr>\n",
       "  </tbody>\n",
       "</table>\n",
       "</div>"
      ],
      "text/plain": [
       "   Unnamed: 0  France  Greece   Italy  Portugal   Spain    Türkiye  t  \\\n",
       "0        2000  16.899  19.871  21.158    21.566  21.958  27.806000  1   \n",
       "1        2001  17.333  19.075  21.920    22.192  21.949  35.512848  2   \n",
       "2        2002  17.188  19.949  21.865    22.255  22.650  37.713939  3   \n",
       "3        2003  17.559  24.572  21.375    22.043  21.418  36.040784  4   \n",
       "4        2004  17.630  24.716  20.996    22.096  20.677  34.124759  5   \n",
       "\n",
       "   interruption  interrupted t  \n",
       "0             0              0  \n",
       "1             0              0  \n",
       "2             0              0  \n",
       "3             0              0  \n",
       "4             0              0  "
      ]
     },
     "execution_count": 89,
     "metadata": {},
     "output_type": "execute_result"
    }
   ],
   "source": [
    "df_2 = pd.read_excel(\"OECD VERİLERİ ELİF BAĞCI TEZ V0_python.xlsx\", sheet_name=10, header=1 )\n",
    "df_2.head()"
   ]
  },
  {
   "attachments": {},
   "cell_type": "markdown",
   "metadata": {},
   "source": [
    "### 1. Adım: Varsayımların sağlandığının kontrolü\n",
    "\n",
    "    Her gruptaki değerler kendi içinde normal dağılım göstermelidir.\n",
    "    Grup varyansları eşit olmalıdır."
   ]
  },
  {
   "cell_type": "code",
   "execution_count": 90,
   "metadata": {},
   "outputs": [],
   "source": [
    "# Normallik Varsayımı\n",
    "\n",
    "# H0: Normal dağılım varsayımı sağlanmaktadır.\n",
    "# H1:..sağlanmamaktadır."
   ]
  },
  {
   "cell_type": "code",
   "execution_count": 91,
   "metadata": {},
   "outputs": [
    {
     "name": "stdout",
     "output_type": "stream",
     "text": [
      "############################################\n",
      "France'nin Shapiro-Wilk Testi Sonuçları\n",
      "Test Stat = 0.9067, p-value = 0.0472\n",
      "\n",
      "p-value 0.05'ten küçüktür. H0 hipotezi reddedilmiştir. Seri normal dağılmamıştır.\n",
      "\n",
      "############################################\n",
      "Greece'nin Shapiro-Wilk Testi Sonuçları\n",
      "Test Stat = 0.8502, p-value = 0.0043\n",
      "\n",
      "p-value 0.05'ten küçüktür. H0 hipotezi reddedilmiştir. Seri normal dağılmamıştır.\n",
      "\n",
      "############################################\n",
      "Italy'nin Shapiro-Wilk Testi Sonuçları\n",
      "Test Stat = 0.9318, p-value = 0.1497\n",
      "\n",
      "p-value 0.05'ten büyüktür. H0 hipotezi reddedilememiştir. Yani Seri normal dağılmıştır.\n",
      "\n",
      "############################################\n",
      "Portugal'nin Shapiro-Wilk Testi Sonuçları\n",
      "Test Stat = 0.8293, p-value = 0.0019\n",
      "\n",
      "p-value 0.05'ten küçüktür. H0 hipotezi reddedilmiştir. Seri normal dağılmamıştır.\n",
      "\n",
      "############################################\n",
      "Spain'nin Shapiro-Wilk Testi Sonuçları\n",
      "Test Stat = 0.8728, p-value = 0.0108\n",
      "\n",
      "p-value 0.05'ten küçüktür. H0 hipotezi reddedilmiştir. Seri normal dağılmamıştır.\n",
      "\n",
      "############################################\n",
      "Türkiye'nin Shapiro-Wilk Testi Sonuçları\n",
      "Test Stat = 0.883, p-value = 0.0166\n",
      "\n",
      "p-value 0.05'ten küçüktür. H0 hipotezi reddedilmiştir. Seri normal dağılmamıştır.\n",
      "\n"
     ]
    }
   ],
   "source": [
    "for country in country_name:    \n",
    "    test_stat, pvalue = stats.shapiro(df_2[f\"{country}\"])\n",
    "    print(\"############################################\")\n",
    "    print(f\"{country}'nin Shapiro-Wilk Testi Sonuçları\")\n",
    "    print(f'Test Stat = {round(test_stat, 4)}, p-value = {round(pvalue,4)}', end=\"\\n\\n\")\n",
    "    if pvalue<0.05:\n",
    "        print(\"p-value 0.05'ten küçüktür. H0 hipotezi reddedilmiştir. Seri normal dağılmamıştır.\", end=\"\\n\\n\")\n",
    "    elif pvalue>0.05:\n",
    "        print(\"p-value 0.05'ten büyüktür. H0 hipotezi reddedilememiştir. Yani Seri normal dağılmıştır.\", end=\"\\n\\n\")"
   ]
  },
  {
   "attachments": {},
   "cell_type": "markdown",
   "metadata": {},
   "source": [
    "    Normallik varsayımı sağlanamıyor. Yine de varyans homojenliğini kontrol edelim."
   ]
  },
  {
   "cell_type": "code",
   "execution_count": 92,
   "metadata": {},
   "outputs": [],
   "source": [
    "# Varyans homojenliği\n",
    "\n",
    "# H0: Varyanslar Homojendir\n",
    "# H1: Varyanslar Homojen Değildir"
   ]
  },
  {
   "cell_type": "code",
   "execution_count": 93,
   "metadata": {},
   "outputs": [
    {
     "name": "stdout",
     "output_type": "stream",
     "text": [
      "Test Stat = 8.4057, p-value = 0.0\n"
     ]
    }
   ],
   "source": [
    "test_stat, pvalue = stats.levene(df_2[\"France\"],\n",
    "                                 df_2[\"Greece\"],\n",
    "                                 df_2[\"Italy\"],\n",
    "                                 df_2[\"Portugal\"],\n",
    "                                 df_2[\"Spain\"],\n",
    "                                 df_2[\"Türkiye\"],)\n",
    "\n",
    "print(f'Test Stat = {round(test_stat, 4)}, p-value = {round(pvalue,4)}')\n",
    "\n",
    "# Aşağıda görüldüğü üzere varyans homojenliği varsayımı sağlanmamaktadır."
   ]
  },
  {
   "attachments": {},
   "cell_type": "markdown",
   "metadata": {},
   "source": [
    "    Burada non-parametrik anova testi uygulanması gerekmektedir. Bunun için biz kruskal testini uygulauacağız."
   ]
  },
  {
   "cell_type": "code",
   "execution_count": 94,
   "metadata": {},
   "outputs": [],
   "source": [
    "# Kruskal testinin hipotezleri\n",
    "\n",
    "# H0: Grupların ortalamaları arasındaki fark anlamlı değildir.\n",
    "# H1: En az iki grup ortalaması arasındaki fark istatistiksel olarak anlamlıdır."
   ]
  },
  {
   "cell_type": "code",
   "execution_count": 95,
   "metadata": {},
   "outputs": [
    {
     "data": {
      "text/plain": [
       "KruskalResult(statistic=89.28874962058313, pvalue=9.477999445566358e-18)"
      ]
     },
     "execution_count": 95,
     "metadata": {},
     "output_type": "execute_result"
    }
   ],
   "source": [
    "stats.kruskal(df_2[\"France\"],\n",
    "              df_2[\"Greece\"],\n",
    "              df_2[\"Italy\"],\n",
    "              df_2[\"Portugal\"],\n",
    "              df_2[\"Spain\"],\n",
    "              df_2[\"Türkiye\"])\n",
    "\n",
    "# p value 0.05'ten küçük olduğu için H0 hipotezini reddederiz. \n",
    "# Yani, en az iki grup ortalaması arasındaki fark istatistiksel olarak anlamlıdır."
   ]
  },
  {
   "cell_type": "code",
   "execution_count": 105,
   "metadata": {},
   "outputs": [
    {
     "data": {
      "text/html": [
       "<div>\n",
       "<style scoped>\n",
       "    .dataframe tbody tr th:only-of-type {\n",
       "        vertical-align: middle;\n",
       "    }\n",
       "\n",
       "    .dataframe tbody tr th {\n",
       "        vertical-align: top;\n",
       "    }\n",
       "\n",
       "    .dataframe thead th {\n",
       "        text-align: right;\n",
       "    }\n",
       "</style>\n",
       "<table border=\"1\" class=\"dataframe\">\n",
       "  <thead>\n",
       "    <tr style=\"text-align: right;\">\n",
       "      <th></th>\n",
       "      <th>France</th>\n",
       "      <th>Greece</th>\n",
       "      <th>Italy</th>\n",
       "      <th>Portugal</th>\n",
       "      <th>Spain</th>\n",
       "      <th>Türkiye</th>\n",
       "    </tr>\n",
       "    <tr>\n",
       "      <th></th>\n",
       "      <th></th>\n",
       "      <th></th>\n",
       "      <th></th>\n",
       "      <th></th>\n",
       "      <th></th>\n",
       "      <th></th>\n",
       "    </tr>\n",
       "  </thead>\n",
       "  <tbody>\n",
       "    <tr>\n",
       "      <th>France</th>\n",
       "      <td>1.000000e+00</td>\n",
       "      <td>9.872941e-11</td>\n",
       "      <td>0.021636</td>\n",
       "      <td>0.091501</td>\n",
       "      <td>9.449327e-01</td>\n",
       "      <td>1.429731e-13</td>\n",
       "    </tr>\n",
       "    <tr>\n",
       "      <th>Greece</th>\n",
       "      <td>9.872941e-11</td>\n",
       "      <td>1.000000e+00</td>\n",
       "      <td>0.003493</td>\n",
       "      <td>0.000558</td>\n",
       "      <td>8.283011e-06</td>\n",
       "      <td>1.000000e+00</td>\n",
       "    </tr>\n",
       "    <tr>\n",
       "      <th>Italy</th>\n",
       "      <td>2.163576e-02</td>\n",
       "      <td>3.492796e-03</td>\n",
       "      <td>1.000000</td>\n",
       "      <td>1.000000</td>\n",
       "      <td>1.000000e+00</td>\n",
       "      <td>7.697846e-05</td>\n",
       "    </tr>\n",
       "    <tr>\n",
       "      <th>Portugal</th>\n",
       "      <td>9.150080e-02</td>\n",
       "      <td>5.582929e-04</td>\n",
       "      <td>1.000000</td>\n",
       "      <td>1.000000</td>\n",
       "      <td>1.000000e+00</td>\n",
       "      <td>8.466719e-06</td>\n",
       "    </tr>\n",
       "    <tr>\n",
       "      <th>Spain</th>\n",
       "      <td>9.449327e-01</td>\n",
       "      <td>8.283011e-06</td>\n",
       "      <td>1.000000</td>\n",
       "      <td>1.000000</td>\n",
       "      <td>1.000000e+00</td>\n",
       "      <td>5.930097e-08</td>\n",
       "    </tr>\n",
       "    <tr>\n",
       "      <th>Türkiye</th>\n",
       "      <td>1.429731e-13</td>\n",
       "      <td>1.000000e+00</td>\n",
       "      <td>0.000077</td>\n",
       "      <td>0.000008</td>\n",
       "      <td>5.930097e-08</td>\n",
       "      <td>1.000000e+00</td>\n",
       "    </tr>\n",
       "  </tbody>\n",
       "</table>\n",
       "</div>"
      ],
      "text/plain": [
       "                France        Greece     Italy  Portugal         Spain  \\\n",
       "                                                                         \n",
       "France    1.000000e+00  9.872941e-11  0.021636  0.091501  9.449327e-01   \n",
       "Greece    9.872941e-11  1.000000e+00  0.003493  0.000558  8.283011e-06   \n",
       "Italy     2.163576e-02  3.492796e-03  1.000000  1.000000  1.000000e+00   \n",
       "Portugal  9.150080e-02  5.582929e-04  1.000000  1.000000  1.000000e+00   \n",
       "Spain     9.449327e-01  8.283011e-06  1.000000  1.000000  1.000000e+00   \n",
       "Türkiye   1.429731e-13  1.000000e+00  0.000077  0.000008  5.930097e-08   \n",
       "\n",
       "               Türkiye  \n",
       "                        \n",
       "France    1.429731e-13  \n",
       "Greece    1.000000e+00  \n",
       "Italy     7.697846e-05  \n",
       "Portugal  8.466719e-06  \n",
       "Spain     5.930097e-08  \n",
       "Türkiye   1.000000e+00  "
      ]
     },
     "execution_count": 105,
     "metadata": {},
     "output_type": "execute_result"
    }
   ],
   "source": [
    "dunns_test = sp.posthoc_dunn([df_2[\"France\"],\n",
    "                              df_2[\"Greece\"],\n",
    "                              df_2[\"Italy\"],\n",
    "                              df_2[\"Portugal\"],\n",
    "                              df_2[\"Spain\"],\n",
    "                              df_2[\"Türkiye\"]], p_adjust = 'bonferroni')\n",
    "\n",
    "dunns_test.columns = country_name\n",
    "dunns_test.insert(0, column=\"\", value= country_name)\n",
    "dunns_test.set_index(\"\", inplace=True)\n",
    "dunns_test"
   ]
  },
  {
   "cell_type": "code",
   "execution_count": 106,
   "metadata": {},
   "outputs": [
    {
     "data": {
      "text/html": [
       "<div>\n",
       "<style scoped>\n",
       "    .dataframe tbody tr th:only-of-type {\n",
       "        vertical-align: middle;\n",
       "    }\n",
       "\n",
       "    .dataframe tbody tr th {\n",
       "        vertical-align: top;\n",
       "    }\n",
       "\n",
       "    .dataframe thead th {\n",
       "        text-align: right;\n",
       "    }\n",
       "</style>\n",
       "<table border=\"1\" class=\"dataframe\">\n",
       "  <thead>\n",
       "    <tr style=\"text-align: right;\">\n",
       "      <th></th>\n",
       "      <th>France</th>\n",
       "      <th>Greece</th>\n",
       "      <th>Italy</th>\n",
       "      <th>Portugal</th>\n",
       "      <th>Spain</th>\n",
       "      <th>Türkiye</th>\n",
       "    </tr>\n",
       "    <tr>\n",
       "      <th></th>\n",
       "      <th></th>\n",
       "      <th></th>\n",
       "      <th></th>\n",
       "      <th></th>\n",
       "      <th></th>\n",
       "      <th></th>\n",
       "    </tr>\n",
       "  </thead>\n",
       "  <tbody>\n",
       "    <tr>\n",
       "      <th>France</th>\n",
       "      <td>Fail to reject</td>\n",
       "      <td>Reject</td>\n",
       "      <td>Reject</td>\n",
       "      <td>Fail to reject</td>\n",
       "      <td>Fail to reject</td>\n",
       "      <td>Reject</td>\n",
       "    </tr>\n",
       "    <tr>\n",
       "      <th>Greece</th>\n",
       "      <td>Reject</td>\n",
       "      <td>Fail to reject</td>\n",
       "      <td>Reject</td>\n",
       "      <td>Reject</td>\n",
       "      <td>Reject</td>\n",
       "      <td>Fail to reject</td>\n",
       "    </tr>\n",
       "    <tr>\n",
       "      <th>Italy</th>\n",
       "      <td>Reject</td>\n",
       "      <td>Reject</td>\n",
       "      <td>Fail to reject</td>\n",
       "      <td>Fail to reject</td>\n",
       "      <td>Fail to reject</td>\n",
       "      <td>Reject</td>\n",
       "    </tr>\n",
       "    <tr>\n",
       "      <th>Portugal</th>\n",
       "      <td>Fail to reject</td>\n",
       "      <td>Reject</td>\n",
       "      <td>Fail to reject</td>\n",
       "      <td>Fail to reject</td>\n",
       "      <td>Fail to reject</td>\n",
       "      <td>Reject</td>\n",
       "    </tr>\n",
       "    <tr>\n",
       "      <th>Spain</th>\n",
       "      <td>Fail to reject</td>\n",
       "      <td>Reject</td>\n",
       "      <td>Fail to reject</td>\n",
       "      <td>Fail to reject</td>\n",
       "      <td>Fail to reject</td>\n",
       "      <td>Reject</td>\n",
       "    </tr>\n",
       "    <tr>\n",
       "      <th>Türkiye</th>\n",
       "      <td>Reject</td>\n",
       "      <td>Fail to reject</td>\n",
       "      <td>Reject</td>\n",
       "      <td>Reject</td>\n",
       "      <td>Reject</td>\n",
       "      <td>Fail to reject</td>\n",
       "    </tr>\n",
       "  </tbody>\n",
       "</table>\n",
       "</div>"
      ],
      "text/plain": [
       "                  France          Greece           Italy        Portugal  \\\n",
       "                                                                           \n",
       "France    Fail to reject          Reject          Reject  Fail to reject   \n",
       "Greece            Reject  Fail to reject          Reject          Reject   \n",
       "Italy             Reject          Reject  Fail to reject  Fail to reject   \n",
       "Portugal  Fail to reject          Reject  Fail to reject  Fail to reject   \n",
       "Spain     Fail to reject          Reject  Fail to reject  Fail to reject   \n",
       "Türkiye           Reject  Fail to reject          Reject          Reject   \n",
       "\n",
       "                   Spain         Türkiye  \n",
       "                                          \n",
       "France    Fail to reject          Reject  \n",
       "Greece            Reject  Fail to reject  \n",
       "Italy     Fail to reject          Reject  \n",
       "Portugal  Fail to reject          Reject  \n",
       "Spain     Fail to reject          Reject  \n",
       "Türkiye           Reject  Fail to reject  "
      ]
     },
     "execution_count": 106,
     "metadata": {},
     "output_type": "execute_result"
    }
   ],
   "source": [
    "dunns_test_analy = dunns_test.applymap(lambda x:\"Reject\" if x<0.05 else \"Fail to reject\")\n",
    "dunns_test_analy"
   ]
  },
  {
   "cell_type": "code",
   "execution_count": 97,
   "metadata": {},
   "outputs": [
    {
     "data": {
      "text/html": [
       "<div>\n",
       "<style scoped>\n",
       "    .dataframe tbody tr th:only-of-type {\n",
       "        vertical-align: middle;\n",
       "    }\n",
       "\n",
       "    .dataframe tbody tr th {\n",
       "        vertical-align: top;\n",
       "    }\n",
       "\n",
       "    .dataframe thead th {\n",
       "        text-align: right;\n",
       "    }\n",
       "</style>\n",
       "<table border=\"1\" class=\"dataframe\">\n",
       "  <thead>\n",
       "    <tr style=\"text-align: right;\">\n",
       "      <th></th>\n",
       "      <th>data</th>\n",
       "      <th>country_list</th>\n",
       "    </tr>\n",
       "  </thead>\n",
       "  <tbody>\n",
       "    <tr>\n",
       "      <th>0</th>\n",
       "      <td>16.899</td>\n",
       "      <td>France</td>\n",
       "    </tr>\n",
       "    <tr>\n",
       "      <th>1</th>\n",
       "      <td>17.333</td>\n",
       "      <td>France</td>\n",
       "    </tr>\n",
       "    <tr>\n",
       "      <th>2</th>\n",
       "      <td>17.188</td>\n",
       "      <td>France</td>\n",
       "    </tr>\n",
       "    <tr>\n",
       "      <th>3</th>\n",
       "      <td>17.559</td>\n",
       "      <td>France</td>\n",
       "    </tr>\n",
       "    <tr>\n",
       "      <th>4</th>\n",
       "      <td>17.630</td>\n",
       "      <td>France</td>\n",
       "    </tr>\n",
       "  </tbody>\n",
       "</table>\n",
       "</div>"
      ],
      "text/plain": [
       "     data country_list\n",
       "0  16.899       France\n",
       "1  17.333       France\n",
       "2  17.188       France\n",
       "3  17.559       France\n",
       "4  17.630       France"
      ]
     },
     "execution_count": 97,
     "metadata": {},
     "output_type": "execute_result"
    }
   ],
   "source": [
    "data_list = []\n",
    "\n",
    "for country in country_name:\n",
    "    for i in df_2[f\"{country}\"]:\n",
    "        data_list.append(i)\n",
    "\n",
    "country_list = []\n",
    "\n",
    "for country in country_name:\n",
    "    for i in df_2[f\"{country}\"]:\n",
    "        country_list.append(f\"{country}\")\n",
    "\n",
    "df_3 = pd.DataFrame({\"data\": data_list, \"country_list\": country_list })\n",
    "df_3.head()"
   ]
  },
  {
   "cell_type": "code",
   "execution_count": 98,
   "metadata": {},
   "outputs": [],
   "source": [
    "# Tukey testinin hipotezleri;\n",
    "\n",
    "# Ho: Gruplar arası ortalamalara göre istatistiksel olarak anlamlı fark yoktur.\n",
    "# Hı: Gruplar arası ortalamalara göre istatistiksel olarak anlamlı fark vardır."
   ]
  },
  {
   "cell_type": "code",
   "execution_count": 99,
   "metadata": {},
   "outputs": [
    {
     "name": "stdout",
     "output_type": "stream",
     "text": [
      "   Multiple Comparison of Means - Tukey HSD, FWER=0.05   \n",
      "=========================================================\n",
      " group1   group2  meandiff p-adj   lower    upper  reject\n",
      "---------------------------------------------------------\n",
      "  France   Greece   10.922    0.0   8.2563 13.5877   True\n",
      "  France    Italy   3.5548 0.0025   0.8891  6.2205   True\n",
      "  France Portugal   3.2662 0.0072   0.6005  5.9319   True\n",
      "  France    Spain   2.2105 0.1639  -0.4552  4.8762  False\n",
      "  France  Türkiye  14.1178    0.0  11.4521 16.7835   True\n",
      "  Greece    Italy  -7.3672    0.0 -10.0329 -4.7015   True\n",
      "  Greece Portugal  -7.6558    0.0 -10.3215 -4.9901   True\n",
      "  Greece    Spain  -8.7115    0.0 -11.3772 -6.0458   True\n",
      "  Greece  Türkiye   3.1957 0.0092     0.53  5.8614   True\n",
      "   Italy Portugal  -0.2886 0.9996  -2.9543  2.3771  False\n",
      "   Italy    Spain  -1.3443 0.6898    -4.01  1.3214  False\n",
      "   Italy  Türkiye   10.563    0.0   7.8973 13.2287   True\n",
      "Portugal    Spain  -1.0557 0.8605  -3.7214    1.61  False\n",
      "Portugal  Türkiye  10.8515    0.0   8.1858 13.5172   True\n",
      "   Spain  Türkiye  11.9073    0.0   9.2416  14.573   True\n",
      "---------------------------------------------------------\n"
     ]
    }
   ],
   "source": [
    "from statsmodels.stats.multicomp import MultiComparison\n",
    "comparison = MultiComparison(df_3['data'], df_3['country_list'])    \n",
    "tukey = comparison.tukeyhsd(0.05)\n",
    "print(tukey.summary())"
   ]
  },
  {
   "attachments": {},
   "cell_type": "markdown",
   "metadata": {},
   "source": [
    "#### Kaynakça\n",
    "\n",
    "    https://istatistikturkiye.com/post-hoc-testlerinin-dogru-kullanimi/\n",
    "    https://www.statology.org/tukey-test-python/\n",
    "    https://www.statology.org/dunns-test-python/\n"
   ]
  }
 ],
 "metadata": {
  "kernelspec": {
   "display_name": "Python 3",
   "language": "python",
   "name": "python3"
  },
  "language_info": {
   "codemirror_mode": {
    "name": "ipython",
    "version": 3
   },
   "file_extension": ".py",
   "mimetype": "text/x-python",
   "name": "python",
   "nbconvert_exporter": "python",
   "pygments_lexer": "ipython3",
   "version": "3.11.0"
  },
  "orig_nbformat": 4,
  "vscode": {
   "interpreter": {
    "hash": "aee8b7b246df8f9039afb4144a1f6fd8d2ca17a180786b69acc140d282b71a49"
   }
  }
 },
 "nbformat": 4,
 "nbformat_minor": 2
}
